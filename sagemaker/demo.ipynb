{
 "cells": [
  {
   "cell_type": "code",
   "execution_count": 22,
   "id": "59f70042",
   "metadata": {},
   "outputs": [
    {
     "data": {
      "text/plain": [
       "{'status': 'healthy',\n",
       " 'startTime': 'Sat Jun 12 15:10:11 UTC 2021',\n",
       " 'dbEngineVersion': '1.0.4.2.R2',\n",
       " 'role': 'writer',\n",
       " 'gremlin': {'version': 'tinkerpop-3.4.10'},\n",
       " 'sparql': {'version': 'sparql-1.1'},\n",
       " 'labMode': {'NeptuneML': 'disabled',\n",
       "  'ObjectIndex': 'disabled',\n",
       "  'DFEQueryEngine': 'disabled',\n",
       "  'ReadWriteConflictDetection': 'enabled'},\n",
       " 'resultCache': {'status': 'Disabled'}}"
      ]
     },
     "execution_count": 22,
     "metadata": {},
     "output_type": "execute_result"
    }
   ],
   "source": [
    "status"
   ]
  },
  {
   "cell_type": "code",
   "execution_count": 36,
   "id": "4ef41565",
   "metadata": {
    "scrolled": true
   },
   "outputs": [
    {
     "data": {
      "application/vnd.jupyter.widget-view+json": {
       "model_id": "53db93a876e541f3913fc9517fc591e4",
       "version_major": 2,
       "version_minor": 0
      },
      "text/plain": [
       "Dropdown(description='Language:', options=('', 'Gremlin', 'SPARQL'), value='')"
      ]
     },
     "metadata": {},
     "output_type": "display_data"
    },
    {
     "data": {
      "application/vnd.jupyter.widget-view+json": {
       "model_id": "7781d0cb86134c718de4fe750597492d",
       "version_major": 2,
       "version_minor": 0
      },
      "text/plain": [
       "Dropdown(description='Data set:', layout=Layout(visibility='hidden'), options=(), value=None)"
      ]
     },
     "metadata": {},
     "output_type": "display_data"
    },
    {
     "data": {
      "application/vnd.jupyter.widget-view+json": {
       "model_id": "",
       "version_major": 2,
       "version_minor": 0
      },
      "text/plain": [
       "Button(description='Submit', layout=Layout(visibility='hidden'), style=ButtonStyle())"
      ]
     },
     "metadata": {},
     "output_type": "display_data"
    },
    {
     "data": {
      "application/vnd.jupyter.widget-view+json": {
       "model_id": "7275df74aa2b4d568e72ae9ae753fff6",
       "version_major": 2,
       "version_minor": 0
      },
      "text/plain": [
       "Output()"
      ]
     },
     "metadata": {},
     "output_type": "display_data"
    },
    {
     "data": {
      "application/vnd.jupyter.widget-view+json": {
       "model_id": "a3295ad7dc5e44eeb9a1290e58195bd2",
       "version_major": 2,
       "version_minor": 0
      },
      "text/plain": [
       "Output()"
      ]
     },
     "metadata": {},
     "output_type": "display_data"
    }
   ],
   "source": [
    "%seed"
   ]
  },
  {
   "cell_type": "code",
   "execution_count": 259,
   "id": "743a77e9",
   "metadata": {},
   "outputs": [
    {
     "data": {
      "application/vnd.jupyter.widget-view+json": {
       "model_id": "1facbf48b5af4fe8a9608c753cb87d26",
       "version_major": 2,
       "version_minor": 0
      },
      "text/plain": [
       "Tab(children=(Output(layout=Layout(max_height='600px', overflow='scroll', width='100%')), Output(layout=Layout…"
      ]
     },
     "metadata": {},
     "output_type": "display_data"
    }
   ],
   "source": [
    "%%gremlin\n",
    "// ラベル一覧\n",
    "g.V().group().by(label).by(properties().label().dedup())\n",
    "//g.V().not.hasLabel('airport').limit(10)"
   ]
  },
  {
   "cell_type": "code",
   "execution_count": 261,
   "id": "b8f07090",
   "metadata": {},
   "outputs": [
    {
     "data": {
      "application/vnd.jupyter.widget-view+json": {
       "model_id": "31be5e64602c42d495573be01a59bcac",
       "version_major": 2,
       "version_minor": 0
      },
      "text/plain": [
       "Tab(children=(Output(layout=Layout(max_height='600px', overflow='scroll', width='100%')), Output(layout=Layout…"
      ]
     },
     "metadata": {},
     "output_type": "display_data"
    }
   ],
   "source": [
    "%%gremlin\n",
    "// 成田空港の情報(vertex)\n",
    "g.V().hasLabel('airport').has('code', 'NRT').valueMap()"
   ]
  },
  {
   "cell_type": "code",
   "execution_count": 262,
   "id": "25b0636b",
   "metadata": {},
   "outputs": [
    {
     "data": {
      "application/vnd.jupyter.widget-view+json": {
       "model_id": "2c3c62979f2e4b1c809049548d3a1287",
       "version_major": 2,
       "version_minor": 0
      },
      "text/plain": [
       "Tab(children=(Output(layout=Layout(max_height='600px', overflow='scroll', width='100%')), Force(network=<graph…"
      ]
     },
     "metadata": {},
     "output_type": "display_data"
    }
   ],
   "source": [
    "%%gremlin -p v,ine,outv\n",
    "// 成田空港とcountryの接続\n",
    " g.V().hasLabel('airport').has('code', 'NRT').inE().outV().hasLabel('country').path().by('code').by(label)"
   ]
  },
  {
   "cell_type": "code",
   "execution_count": 263,
   "id": "efa85273",
   "metadata": {},
   "outputs": [
    {
     "data": {
      "application/vnd.jupyter.widget-view+json": {
       "model_id": "e7b1843e330e4cd3b7237101ce6b99bf",
       "version_major": 2,
       "version_minor": 0
      },
      "text/plain": [
       "Tab(children=(Output(layout=Layout(max_height='600px', overflow='scroll', width='100%')), Output(layout=Layout…"
      ]
     },
     "metadata": {},
     "output_type": "display_data"
    }
   ],
   "source": [
    "%%gremlin\n",
    "// 航空経路の情報(edge)\n",
    "g.E().hasLabel('route').limit(10).valueMap()"
   ]
  },
  {
   "cell_type": "code",
   "execution_count": 264,
   "id": "a91672f3",
   "metadata": {},
   "outputs": [
    {
     "data": {
      "application/vnd.jupyter.widget-view+json": {
       "model_id": "5200f2c9d80f48d7b98d462786041449",
       "version_major": 2,
       "version_minor": 0
      },
      "text/plain": [
       "Tab(children=(Output(layout=Layout(max_height='600px', overflow='scroll', width='100%')), Force(network=<graph…"
      ]
     },
     "metadata": {},
     "output_type": "display_data"
    }
   ],
   "source": [
    "%%gremlin -p v,oute,inv,oute,inv\n",
    "// 成田から出る路線\n",
    "g.V().hasLabel('airport').has('code', 'NRT').outE().inV().path().by('code').by('dist').limit(10)\n",
    "\n"
   ]
  },
  {
   "cell_type": "code",
   "execution_count": 265,
   "id": "006fbee2",
   "metadata": {},
   "outputs": [
    {
     "data": {
      "application/vnd.jupyter.widget-view+json": {
       "model_id": "a5f6f05ff3214befb97e0b9c1fedde6e",
       "version_major": 2,
       "version_minor": 0
      },
      "text/plain": [
       "Tab(children=(Output(layout=Layout(max_height='600px', overflow='scroll', width='100%')), Force(network=<graph…"
      ]
     },
     "metadata": {},
     "output_type": "display_data"
    }
   ],
   "source": [
    "%%gremlin -p v,ine,outv\n",
    "// 成田に入る路線\n",
    "g.V().hasLabel('airport').has('code', 'NRT').inE().outV().path().by('code').by('dist').limit(10)"
   ]
  },
  {
   "cell_type": "code",
   "execution_count": 267,
   "id": "1aa3235b",
   "metadata": {},
   "outputs": [
    {
     "data": {
      "application/vnd.jupyter.widget-view+json": {
       "model_id": "f12886a75f5b489ab81bb8181c7a56de",
       "version_major": 2,
       "version_minor": 0
      },
      "text/plain": [
       "Tab(children=(Output(layout=Layout(max_height='600px', overflow='scroll', width='100%')), Output(layout=Layout…"
      ]
     },
     "metadata": {},
     "output_type": "display_data"
    }
   ],
   "source": [
    "%%gremlin -p v,oute,inv,oute,inv\n",
    "// 成田からベトナムに出る路線\n",
    "g.V().hasLabel('airport').has('code', 'SGN').valueMap()\n",
    "//g.V().hasLabel('airport').has('code', 'NRT').outE().inV().has('country', 'VN').outE().inV().has('code', 'NRT').path().by('code').by('dist')"
   ]
  },
  {
   "cell_type": "code",
   "execution_count": 270,
   "id": "fb9d1f6f",
   "metadata": {},
   "outputs": [
    {
     "data": {
      "application/vnd.jupyter.widget-view+json": {
       "model_id": "c4d4dd016f23450a88b26f2d0f957c21",
       "version_major": 2,
       "version_minor": 0
      },
      "text/plain": [
       "Tab(children=(Output(layout=Layout(max_height='600px', overflow='scroll', width='100%')), Force(network=<graph…"
      ]
     },
     "metadata": {},
     "output_type": "display_data"
    }
   ],
   "source": [
    "%%gremlin -p v,oute,inv,oute,inv\n",
    "// 成田からベトナムに出て、関空に返ってくる\n",
    "g.V().hasLabel('airport').has('code', 'NRT').outE().inV().has('country', 'VN').outE().inV().has('code', 'KIX').path().by('code').by('dist')"
   ]
  },
  {
   "cell_type": "code",
   "execution_count": 269,
   "id": "a125f8e9",
   "metadata": {},
   "outputs": [
    {
     "data": {
      "application/vnd.jupyter.widget-view+json": {
       "model_id": "0df78d450a6f49498b6b749bb87f859c",
       "version_major": 2,
       "version_minor": 0
      },
      "text/plain": [
       "Tab(children=(Output(layout=Layout(max_height='600px', overflow='scroll', width='100%')), Force(network=<graph…"
      ]
     },
     "metadata": {},
     "output_type": "display_data"
    }
   ],
   "source": [
    "\n",
    "%%gremlin -p v,oute,inv,ine,outv\n",
    "// 成田から行ける日本国内の空港\n",
    "g.V()\n",
    ".hasLabel('airport')\n",
    ".has('code', 'NRT').outE().inV().hasLabel('airport')\n",
    ".where(inE().outV().hasLabel('country').has('code', 'JP'))\n",
    ".inE().outV().hasLabel('country').path().by('code').by(label)"
   ]
  }
 ],
 "metadata": {
  "kernelspec": {
   "display_name": "Python 3",
   "language": "python",
   "name": "python3"
  },
  "language_info": {
   "codemirror_mode": {
    "name": "ipython",
    "version": 3
   },
   "file_extension": ".py",
   "mimetype": "text/x-python",
   "name": "python",
   "nbconvert_exporter": "python",
   "pygments_lexer": "ipython3",
   "version": "3.6.13"
  }
 },
 "nbformat": 4,
 "nbformat_minor": 5
}
